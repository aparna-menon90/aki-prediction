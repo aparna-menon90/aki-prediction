{
 "cells": [
  {
   "cell_type": "code",
   "execution_count": 30,
   "id": "aacc9e03",
   "metadata": {},
   "outputs": [],
   "source": [
    "#Import libraries\n",
    "import pandas as pd\n",
    "import matplotlib.pyplot as plt\n",
    "import numpy as np\n",
    "import os"
   ]
  },
  {
   "cell_type": "code",
   "execution_count": 31,
   "id": "d67fe046",
   "metadata": {},
   "outputs": [],
   "source": [
    "#DEFINE FILEPATH\n",
    "hosp='W:\\\\Main_project\\\\mimic-iv-2.2\\\\mimic-iv-2.2\\\\hosp\\\\'\n",
    "icu='W:\\\\Main_project\\\\mimic-iv-2.2\\\\mimic-iv-2.2\\\\icu\\\\'\n",
    "base='W:\\\\Main_project\\\\base_files\\\\'"
   ]
  },
  {
   "cell_type": "code",
   "execution_count": 3,
   "id": "279b677e",
   "metadata": {},
   "outputs": [],
   "source": [
    "pat_adm=pd.read_csv(f'{base}pat_adm_aki_time_final.csv')\n",
    "\n",
    "#correct the min time required\n",
    "from datetime import timedelta\n",
    "\n",
    "pat_adm['start_time_of_increase'] = pd.to_datetime(pat_adm['start_time_of_increase'])\n",
    "pat_adm['min_time_required'] = pd.to_datetime(pat_adm['min_time_required'])\n",
    "twenty_four_hours = timedelta(hours=24)\n",
    "selected_rows = pat_adm['increase_flag'] == 1\n",
    "\n",
    "# Subtract 24 hours from 'start_time_of_increase' for selected rows\n",
    "pat_adm.loc[selected_rows, 'min_time_required'] = pat_adm.loc[selected_rows, 'start_time_of_increase'] - twenty_four_hours"
   ]
  },
  {
   "cell_type": "code",
   "execution_count": 15,
   "id": "990c3eab",
   "metadata": {},
   "outputs": [],
   "source": [
    "\n",
    "def process_labs(hosp, lab_name):\n",
    "    # Read the lab data\n",
    "    lab_df = pd.read_csv(f'{hosp}{lab_name}_lab.csv', index_col=0,on_bad_lines='skip')\n",
    "    \n",
    "    # Rename column\n",
    "    lab_df = lab_df.rename(columns={'valuenum': lab_name})\n",
    "    \n",
    "    # Drop unnecessary columns\n",
    "    lab_df = lab_df.drop(['storetime', 'labevent_id', 'order_provider_id', 'flag', 'priority', 'comments', 'value', 'specimen_id'], axis=1)\n",
    "    \n",
    "    # Remove duplicate rows\n",
    "    lab_df = lab_df.drop_duplicates()\n",
    "\n",
    "    # Merge with pat_adm and filter labs within admit and dischtime\n",
    "    pat_bili = pd.merge(pat_adm, lab_df, how='left', on='subject_id')\n",
    "    try:\n",
    "        pat_bili['charttime'] = pd.to_datetime(pat_bili['charttime'])\n",
    "    except ValueError:\n",
    "    # Remove rows where conversion to datetime fails\n",
    "        pat_bili = pat_bili[pd.to_datetime(pat_bili['charttime'], errors='coerce').notna()]\n",
    "    try:\n",
    "        pat_bili['admittime'] = pd.to_datetime(pat_bili['admittime'])\n",
    "    except ValueError:\n",
    "        pat_bili = pat_bili[pd.to_datetime(pat_bili['admittime'], errors='coerce').notna()]\n",
    "    try:\n",
    "        pat_bili['dischtime'] = pd.to_datetime(pat_bili['dischtime'])\n",
    "    except ValueError:\n",
    "        pat_bili = pat_bili[pd.to_datetime(pat_bili['dischtime'], errors='coerce').notna()]\n",
    "        \n",
    "    \n",
    "    print(\"Count of patients before the admittime- dischtime filter: \",pat_bili['subject_id'].nunique())\n",
    "    pat_bili = pat_bili[(pat_bili['charttime'] >= pat_bili['admittime']) & (pat_bili['charttime'] <= pat_bili['dischtime'])]\n",
    "    print(\"\\nCount of patients after the admittime- dischtime filter: \",pat_bili['subject_id'].nunique())\n",
    "    \n",
    "    # Filter for latest labs within min_time_required\n",
    "    pat_bili['min_time_required'] = pd.to_datetime(pat_bili['min_time_required'])\n",
    "    df_sorted = pat_bili.sort_values(by=['subject_id', 'charttime'])\n",
    "    pat_bili = df_sorted.groupby('subject_id').apply(lambda x: x[x['charttime'] <= x['min_time_required']].tail(1))\n",
    "\n",
    "    # Correct the DataFrame\n",
    "    pat_bili = pat_bili.drop(['subject_id'], axis=1)\n",
    "    pat_bili = pat_bili.reset_index()\n",
    "    pat_bili = pat_bili.drop(['hadm_id_y', 'level_1'], axis=1)\n",
    "    pat_bili=pat_bili.rename({'charttime':'charttime_' + lab_name},axis=1)\n",
    "    pat_bili =pat_bili.rename({'valueuom':'valueuom_' + lab_name},axis=1)\n",
    "    pat_bili =pat_bili.rename({'itemid':'itemid_' + lab_name},axis=1)\n",
    "    pat_bili=pat_bili[['subject_id','charttime_'+ lab_name,'itemid_'+lab_name,lab_name,'valueuom_'+lab_name]]\n",
    "    pat_bili = pd.merge(pat_bili, loinc_map, left_on='itemid_'+lab_name,right_on='itemid (omop_source_code)', how='left')\n",
    "    pat_bili=pat_bili.rename({'omop_concept_id':'loinc_'+lab_name},axis=1)\n",
    "    pat_bili=pat_bili.drop(['itemid (omop_source_code)'],axis=1)\n",
    "    #req columns -subject_id,charttime,itemid,albumin,valueuom\n",
    "    \n",
    "    return pat_bili"
   ]
  },
  {
   "cell_type": "code",
   "execution_count": 5,
   "id": "fa3d15ab",
   "metadata": {},
   "outputs": [],
   "source": [
    "# lab files\n",
    "\n",
    "#albumin=pd.read_csv(f'{hosp}albumin_lab.csv',index_col=0)\n",
    "#alt=pd.read_csv(f'{hosp}alt_lab.csv',index_col=0)\n",
    "#bilirubin = pd.read_csv(f'{hosp}bilirubin_lab.csv',index_col=0)\n",
    "#bun = pd.read_csv(f'{hosp}bun_lab.csv',index_col=0)\n",
    "#glucose = pd.read_csv(f'{hosp}glucose_lab.csv',index_col=0)\n",
    "#ammonia=pd.read_csv(f'{hosp}ammonia_lab.csv',index_col=0)\n",
    "#ast=pd.read_csv(f'{hosp}ast_lab.csv',index_col=0)\n",
    "\n",
    "## LOINC codes mapping file\n",
    "loinc_map=pd.read_csv('d_labitems_to_loinc.csv')\n",
    "loinc_map=loinc_map[['itemid (omop_source_code)','omop_concept_id']]\n",
    "#omop_concept_id is the loinc_code"
   ]
  },
  {
   "cell_type": "markdown",
   "id": "825b3d38",
   "metadata": {},
   "source": [
    "#### Creatinine"
   ]
  },
  {
   "cell_type": "code",
   "execution_count": 6,
   "id": "4d657506",
   "metadata": {},
   "outputs": [],
   "source": [
    "#Manually done for creatinine as file name is sc_labs.csv , not lab;\n",
    "#multiple places contain labs.csv,hence not renaming the file"
   ]
  },
  {
   "cell_type": "code",
   "execution_count": 7,
   "id": "cfb7dd87",
   "metadata": {},
   "outputs": [],
   "source": [
    "creatinine=pd.read_csv(f'{hosp}scr_labs.csv',index_col=0)\n",
    "creatinine=creatinine.rename({'valuenum':'creatinine'},axis=1)\n",
    "creatinine=creatinine.drop(['storetime','labevent_id','order_provider_id','flag','priority','comments','value','specimen_id'],axis=1)\n",
    "creatinine=creatinine.drop_duplicates()"
   ]
  },
  {
   "cell_type": "code",
   "execution_count": 8,
   "id": "a7aa3524",
   "metadata": {},
   "outputs": [],
   "source": [
    "#Join with pat_adm and get onlt the labs less than min_time_required; take the earliest one\n",
    "pat_scr=pd.merge(pat_adm,creatinine,how='left',on='subject_id')\n",
    "#Keep only those charttimes btn admit and dischtime for a patient\n",
    "pat_scr['charttime'] = pd.to_datetime(pat_scr['charttime'])\n",
    "pat_scr['admittime'] = pd.to_datetime(pat_scr['admittime'])\n",
    "pat_scr['dischtime'] = pd.to_datetime(pat_scr['dischtime'])\n",
    "\n",
    "pat_scr = pat_scr[(pat_scr['charttime'] >= pat_scr['admittime']) & (pat_scr['charttime'] <= pat_scr['dischtime'])]\n",
    "#Get only latest labs, less than min req time\n",
    "# For aki patients, labs would be before onset on aki - min_time_required;\n",
    "#for non -aki, latest labs within min_time_required(disch time)\n",
    "\n",
    "pat_scr['charttime'] = pd.to_datetime(pat_scr['charttime'])\n",
    "pat_scr['min_time_required'] = pd.to_datetime(pat_scr['min_time_required'])\n",
    "df_sorted = pat_scr.sort_values(by=['subject_id', 'charttime'])\n",
    "pat_scr = df_sorted.groupby('subject_id').apply(lambda x: x[x['charttime'] <= x['min_time_required']].tail(1))\n",
    "\n",
    "#Correct the df \n",
    "pat_scr=pat_scr.drop(['subject_id'],axis=1)\n",
    "pat_scr=pat_scr.reset_index()\n",
    "pat_scr=pat_scr.drop(['hadm_id_y'],axis=1)\n",
    "pat_scr=pat_scr.drop(['level_1'],axis=1)\n",
    "\n",
    "pat_scr=pat_scr.rename({'charttime':'charttime_creatinine'},axis=1)\n",
    "pat_scr =pat_scr.rename({'valueuom':'valueuom_creatinine'},axis=1)\n",
    "pat_scr =pat_scr.rename({'itemid':'itemid_creatinine'},axis=1)\n",
    "pat_scr=pat_scr[['subject_id','charttime_creatinine','itemid_creatinine','creatinine','valueuom_creatinine']]"
   ]
  },
  {
   "cell_type": "code",
   "execution_count": 9,
   "id": "4863abfe",
   "metadata": {},
   "outputs": [
    {
     "data": {
      "text/html": [
       "<div>\n",
       "<style scoped>\n",
       "    .dataframe tbody tr th:only-of-type {\n",
       "        vertical-align: middle;\n",
       "    }\n",
       "\n",
       "    .dataframe tbody tr th {\n",
       "        vertical-align: top;\n",
       "    }\n",
       "\n",
       "    .dataframe thead th {\n",
       "        text-align: right;\n",
       "    }\n",
       "</style>\n",
       "<table border=\"1\" class=\"dataframe\">\n",
       "  <thead>\n",
       "    <tr style=\"text-align: right;\">\n",
       "      <th></th>\n",
       "      <th>subject_id</th>\n",
       "      <th>charttime_creatinine</th>\n",
       "      <th>itemid_creatinine</th>\n",
       "      <th>creatinine</th>\n",
       "      <th>valueuom_creatinine</th>\n",
       "    </tr>\n",
       "  </thead>\n",
       "  <tbody>\n",
       "    <tr>\n",
       "      <th>0</th>\n",
       "      <td>10094629</td>\n",
       "      <td>2199-05-18 06:08:00</td>\n",
       "      <td>50912</td>\n",
       "      <td>1.2</td>\n",
       "      <td>mg/dL</td>\n",
       "    </tr>\n",
       "    <tr>\n",
       "      <th>1</th>\n",
       "      <td>10094902</td>\n",
       "      <td>2136-06-16 13:15:00</td>\n",
       "      <td>50912</td>\n",
       "      <td>0.8</td>\n",
       "      <td>mg/dL</td>\n",
       "    </tr>\n",
       "    <tr>\n",
       "      <th>2</th>\n",
       "      <td>10094971</td>\n",
       "      <td>2122-04-19 06:05:00</td>\n",
       "      <td>50912</td>\n",
       "      <td>0.3</td>\n",
       "      <td>mg/dL</td>\n",
       "    </tr>\n",
       "    <tr>\n",
       "      <th>3</th>\n",
       "      <td>10095139</td>\n",
       "      <td>2157-10-15 07:00:00</td>\n",
       "      <td>50912</td>\n",
       "      <td>0.8</td>\n",
       "      <td>mg/dL</td>\n",
       "    </tr>\n",
       "    <tr>\n",
       "      <th>4</th>\n",
       "      <td>10095417</td>\n",
       "      <td>2175-11-03 06:00:00</td>\n",
       "      <td>50912</td>\n",
       "      <td>0.9</td>\n",
       "      <td>mg/dL</td>\n",
       "    </tr>\n",
       "  </tbody>\n",
       "</table>\n",
       "</div>"
      ],
      "text/plain": [
       "   subject_id charttime_creatinine  itemid_creatinine  creatinine  \\\n",
       "0    10094629  2199-05-18 06:08:00              50912         1.2   \n",
       "1    10094902  2136-06-16 13:15:00              50912         0.8   \n",
       "2    10094971  2122-04-19 06:05:00              50912         0.3   \n",
       "3    10095139  2157-10-15 07:00:00              50912         0.8   \n",
       "4    10095417  2175-11-03 06:00:00              50912         0.9   \n",
       "\n",
       "  valueuom_creatinine  \n",
       "0               mg/dL  \n",
       "1               mg/dL  \n",
       "2               mg/dL  \n",
       "3               mg/dL  \n",
       "4               mg/dL  "
      ]
     },
     "execution_count": 9,
     "metadata": {},
     "output_type": "execute_result"
    }
   ],
   "source": [
    "pat_scr.head()"
   ]
  },
  {
   "cell_type": "code",
   "execution_count": 10,
   "id": "6907e858",
   "metadata": {},
   "outputs": [
    {
     "data": {
      "text/html": [
       "<div>\n",
       "<style scoped>\n",
       "    .dataframe tbody tr th:only-of-type {\n",
       "        vertical-align: middle;\n",
       "    }\n",
       "\n",
       "    .dataframe tbody tr th {\n",
       "        vertical-align: top;\n",
       "    }\n",
       "\n",
       "    .dataframe thead th {\n",
       "        text-align: right;\n",
       "    }\n",
       "</style>\n",
       "<table border=\"1\" class=\"dataframe\">\n",
       "  <thead>\n",
       "    <tr style=\"text-align: right;\">\n",
       "      <th></th>\n",
       "      <th>itemid (omop_source_code)</th>\n",
       "      <th>omop_concept_id</th>\n",
       "    </tr>\n",
       "  </thead>\n",
       "  <tbody>\n",
       "    <tr>\n",
       "      <th>0</th>\n",
       "      <td>50801</td>\n",
       "      <td>3007913</td>\n",
       "    </tr>\n",
       "    <tr>\n",
       "      <th>1</th>\n",
       "      <td>50802</td>\n",
       "      <td>3012501</td>\n",
       "    </tr>\n",
       "    <tr>\n",
       "      <th>2</th>\n",
       "      <td>50803</td>\n",
       "      <td>3006576</td>\n",
       "    </tr>\n",
       "    <tr>\n",
       "      <th>3</th>\n",
       "      <td>50804</td>\n",
       "      <td>3031147</td>\n",
       "    </tr>\n",
       "    <tr>\n",
       "      <th>4</th>\n",
       "      <td>50805</td>\n",
       "      <td>3023081</td>\n",
       "    </tr>\n",
       "  </tbody>\n",
       "</table>\n",
       "</div>"
      ],
      "text/plain": [
       "   itemid (omop_source_code) omop_concept_id\n",
       "0                      50801         3007913\n",
       "1                      50802         3012501\n",
       "2                      50803         3006576\n",
       "3                      50804         3031147\n",
       "4                      50805         3023081"
      ]
     },
     "execution_count": 10,
     "metadata": {},
     "output_type": "execute_result"
    }
   ],
   "source": [
    "loinc_map.head()"
   ]
  },
  {
   "cell_type": "code",
   "execution_count": 11,
   "id": "69625a3e",
   "metadata": {},
   "outputs": [],
   "source": [
    "pat_scr = pd.merge(pat_scr, loinc_map, left_on='itemid_creatinine',right_on='itemid (omop_source_code)', how='left')\n",
    "pat_scr=pat_scr.rename({'omop_concept_id':'loinc_creatinine'},axis=1)\n",
    "pat_scr=pat_scr.drop(['itemid (omop_source_code)'],axis=1)"
   ]
  },
  {
   "cell_type": "code",
   "execution_count": 12,
   "id": "5b90fb7d",
   "metadata": {},
   "outputs": [
    {
     "data": {
      "text/html": [
       "<div>\n",
       "<style scoped>\n",
       "    .dataframe tbody tr th:only-of-type {\n",
       "        vertical-align: middle;\n",
       "    }\n",
       "\n",
       "    .dataframe tbody tr th {\n",
       "        vertical-align: top;\n",
       "    }\n",
       "\n",
       "    .dataframe thead th {\n",
       "        text-align: right;\n",
       "    }\n",
       "</style>\n",
       "<table border=\"1\" class=\"dataframe\">\n",
       "  <thead>\n",
       "    <tr style=\"text-align: right;\">\n",
       "      <th></th>\n",
       "      <th>subject_id</th>\n",
       "      <th>charttime_creatinine</th>\n",
       "      <th>itemid_creatinine</th>\n",
       "      <th>creatinine</th>\n",
       "      <th>valueuom_creatinine</th>\n",
       "      <th>loinc_creatinine</th>\n",
       "    </tr>\n",
       "  </thead>\n",
       "  <tbody>\n",
       "    <tr>\n",
       "      <th>0</th>\n",
       "      <td>10094629</td>\n",
       "      <td>2199-05-18 06:08:00</td>\n",
       "      <td>50912</td>\n",
       "      <td>1.2</td>\n",
       "      <td>mg/dL</td>\n",
       "      <td>3016723</td>\n",
       "    </tr>\n",
       "    <tr>\n",
       "      <th>1</th>\n",
       "      <td>10094902</td>\n",
       "      <td>2136-06-16 13:15:00</td>\n",
       "      <td>50912</td>\n",
       "      <td>0.8</td>\n",
       "      <td>mg/dL</td>\n",
       "      <td>3016723</td>\n",
       "    </tr>\n",
       "    <tr>\n",
       "      <th>2</th>\n",
       "      <td>10094971</td>\n",
       "      <td>2122-04-19 06:05:00</td>\n",
       "      <td>50912</td>\n",
       "      <td>0.3</td>\n",
       "      <td>mg/dL</td>\n",
       "      <td>3016723</td>\n",
       "    </tr>\n",
       "    <tr>\n",
       "      <th>3</th>\n",
       "      <td>10095139</td>\n",
       "      <td>2157-10-15 07:00:00</td>\n",
       "      <td>50912</td>\n",
       "      <td>0.8</td>\n",
       "      <td>mg/dL</td>\n",
       "      <td>3016723</td>\n",
       "    </tr>\n",
       "    <tr>\n",
       "      <th>4</th>\n",
       "      <td>10095417</td>\n",
       "      <td>2175-11-03 06:00:00</td>\n",
       "      <td>50912</td>\n",
       "      <td>0.9</td>\n",
       "      <td>mg/dL</td>\n",
       "      <td>3016723</td>\n",
       "    </tr>\n",
       "  </tbody>\n",
       "</table>\n",
       "</div>"
      ],
      "text/plain": [
       "   subject_id charttime_creatinine  itemid_creatinine  creatinine  \\\n",
       "0    10094629  2199-05-18 06:08:00              50912         1.2   \n",
       "1    10094902  2136-06-16 13:15:00              50912         0.8   \n",
       "2    10094971  2122-04-19 06:05:00              50912         0.3   \n",
       "3    10095139  2157-10-15 07:00:00              50912         0.8   \n",
       "4    10095417  2175-11-03 06:00:00              50912         0.9   \n",
       "\n",
       "  valueuom_creatinine loinc_creatinine  \n",
       "0               mg/dL          3016723  \n",
       "1               mg/dL          3016723  \n",
       "2               mg/dL          3016723  \n",
       "3               mg/dL          3016723  \n",
       "4               mg/dL          3016723  "
      ]
     },
     "execution_count": 12,
     "metadata": {},
     "output_type": "execute_result"
    }
   ],
   "source": [
    "pat_scr.head()"
   ]
  },
  {
   "cell_type": "code",
   "execution_count": 13,
   "id": "3aed78ad",
   "metadata": {},
   "outputs": [],
   "source": [
    "del creatinine"
   ]
  },
  {
   "cell_type": "markdown",
   "id": "ec8f46d2",
   "metadata": {},
   "source": [
    "#### Albumin"
   ]
  },
  {
   "cell_type": "code",
   "execution_count": 16,
   "id": "2f877e5d",
   "metadata": {},
   "outputs": [
    {
     "name": "stdout",
     "output_type": "stream",
     "text": [
      "Count of patients before the admittime- dischtime filter:  27111\n",
      "\n",
      "Count of patients after the admittime- dischtime filter:  11305\n"
     ]
    },
    {
     "data": {
      "text/plain": [
       "10081"
      ]
     },
     "execution_count": 16,
     "metadata": {},
     "output_type": "execute_result"
    }
   ],
   "source": [
    "pat_alb=process_labs(hosp,'albumin')\n",
    "pat_alb['subject_id'].nunique()"
   ]
  },
  {
   "cell_type": "markdown",
   "id": "80d3aba7",
   "metadata": {},
   "source": [
    "#### ALT"
   ]
  },
  {
   "cell_type": "code",
   "execution_count": 17,
   "id": "f12b5a11",
   "metadata": {},
   "outputs": [
    {
     "name": "stdout",
     "output_type": "stream",
     "text": [
      "Count of patients before the admittime- dischtime filter:  27111\n",
      "\n",
      "Count of patients after the admittime- dischtime filter:  15689\n"
     ]
    },
    {
     "data": {
      "text/plain": [
       "14530"
      ]
     },
     "execution_count": 17,
     "metadata": {},
     "output_type": "execute_result"
    }
   ],
   "source": [
    "pat_alt=process_labs(hosp,'alt')\n",
    "pat_alt['subject_id'].nunique()"
   ]
  },
  {
   "cell_type": "markdown",
   "id": "612c528d",
   "metadata": {},
   "source": [
    "#### Bilirubin"
   ]
  },
  {
   "cell_type": "code",
   "execution_count": 18,
   "id": "2c0f7d03",
   "metadata": {},
   "outputs": [
    {
     "name": "stdout",
     "output_type": "stream",
     "text": [
      "Count of patients before the admittime- dischtime filter:  27111\n",
      "\n",
      "Count of patients after the admittime- dischtime filter:  15354\n"
     ]
    },
    {
     "data": {
      "text/plain": [
       "14173"
      ]
     },
     "execution_count": 18,
     "metadata": {},
     "output_type": "execute_result"
    }
   ],
   "source": [
    "pat_bilirubin=process_labs(hosp,'bilirubin')\n",
    "pat_bilirubin['subject_id'].nunique()"
   ]
  },
  {
   "cell_type": "markdown",
   "id": "79acd133",
   "metadata": {},
   "source": [
    "#### AST"
   ]
  },
  {
   "cell_type": "code",
   "execution_count": 19,
   "id": "d13ca002",
   "metadata": {},
   "outputs": [
    {
     "name": "stdout",
     "output_type": "stream",
     "text": [
      "Count of patients before the admittime- dischtime filter:  27111\n",
      "\n",
      "Count of patients after the admittime- dischtime filter:  15671\n"
     ]
    },
    {
     "data": {
      "text/plain": [
       "14510"
      ]
     },
     "execution_count": 19,
     "metadata": {},
     "output_type": "execute_result"
    }
   ],
   "source": [
    "pat_ast=process_labs(hosp,'ast')\n",
    "pat_ast['subject_id'].nunique()"
   ]
  },
  {
   "cell_type": "markdown",
   "id": "a28ce4ee",
   "metadata": {},
   "source": [
    "#### Ammonia\n"
   ]
  },
  {
   "cell_type": "code",
   "execution_count": 20,
   "id": "f35372fd",
   "metadata": {},
   "outputs": [
    {
     "name": "stdout",
     "output_type": "stream",
     "text": [
      "Count of patients before the admittime- dischtime filter:  27111\n",
      "\n",
      "Count of patients after the admittime- dischtime filter:  464\n"
     ]
    },
    {
     "data": {
      "text/plain": [
       "326"
      ]
     },
     "execution_count": 20,
     "metadata": {},
     "output_type": "execute_result"
    }
   ],
   "source": [
    "pat_ammonia=process_labs(hosp,'ammonia')\n",
    "pat_ammonia['subject_id'].nunique()"
   ]
  },
  {
   "cell_type": "code",
   "execution_count": 21,
   "id": "3fe7a5e0",
   "metadata": {},
   "outputs": [
    {
     "data": {
      "text/plain": [
       "464"
      ]
     },
     "execution_count": 21,
     "metadata": {},
     "output_type": "execute_result"
    }
   ],
   "source": [
    "##Testing why its low\n",
    "ammonia=pd.read_csv(f'{hosp}ammonia_lab.csv',index_col=0)\n",
    "pat_a=pd.merge(pat_adm,ammonia\n",
    "               ,how='left',on='subject_id')\n",
    "#Keep only those charttimes btn admit and dischtime for a patient\n",
    "pat_a['charttime'] = pd.to_datetime(pat_a['charttime'])\n",
    "pat_a['admittime'] = pd.to_datetime(pat_a['admittime'])\n",
    "pat_a['dischtime'] = pd.to_datetime(pat_a['dischtime'])\n",
    "\n",
    "pat_a = pat_a[(pat_a['charttime'] >= pat_a['admittime']) & (pat_a['charttime'] <= pat_a['dischtime'])]\n",
    "pat_a['subject_id'].nunique()"
   ]
  },
  {
   "cell_type": "markdown",
   "id": "745f110b",
   "metadata": {},
   "source": [
    "#### BUN"
   ]
  },
  {
   "cell_type": "code",
   "execution_count": 22,
   "id": "0a814075",
   "metadata": {},
   "outputs": [
    {
     "name": "stderr",
     "output_type": "stream",
     "text": [
      "C:\\Users\\aparna.menondiva\\AppData\\Local\\Temp\\ipykernel_21032\\3073892609.py:3: DtypeWarning: Columns (1,2,3,4,5,10,12,13) have mixed types. Specify dtype option on import or set low_memory=False.\n",
      "  lab_df = pd.read_csv(f'{hosp}{lab_name}_lab.csv', index_col=0,on_bad_lines='skip')\n"
     ]
    },
    {
     "name": "stdout",
     "output_type": "stream",
     "text": [
      "Count of patients before the admittime- dischtime filter:  24494\n",
      "\n",
      "Count of patients after the admittime- dischtime filter:  24389\n"
     ]
    },
    {
     "data": {
      "text/plain": [
       "23656"
      ]
     },
     "execution_count": 22,
     "metadata": {},
     "output_type": "execute_result"
    }
   ],
   "source": [
    "pat_bun=process_labs(hosp,'bun')\n",
    "pat_bun['subject_id'].nunique()"
   ]
  },
  {
   "cell_type": "markdown",
   "id": "19305702",
   "metadata": {},
   "source": [
    "#### Glucose "
   ]
  },
  {
   "cell_type": "code",
   "execution_count": 23,
   "id": "50b5f797",
   "metadata": {},
   "outputs": [
    {
     "name": "stdout",
     "output_type": "stream",
     "text": [
      "Count of patients before the admittime- dischtime filter:  27111\n",
      "\n",
      "Count of patients after the admittime- dischtime filter:  26918\n"
     ]
    },
    {
     "data": {
      "text/plain": [
       "26104"
      ]
     },
     "execution_count": 23,
     "metadata": {},
     "output_type": "execute_result"
    }
   ],
   "source": [
    "pat_glucose=process_labs(hosp,'glucose')\n",
    "pat_glucose['subject_id'].nunique()"
   ]
  },
  {
   "cell_type": "markdown",
   "id": "abb762dd",
   "metadata": {},
   "source": [
    "#### CK"
   ]
  },
  {
   "cell_type": "code",
   "execution_count": 25,
   "id": "32003883",
   "metadata": {},
   "outputs": [
    {
     "name": "stdout",
     "output_type": "stream",
     "text": [
      "Count of patients before the admittime- dischtime filter:  27111\n",
      "\n",
      "Count of patients after the admittime- dischtime filter:  6710\n"
     ]
    },
    {
     "data": {
      "text/plain": [
       "5846"
      ]
     },
     "execution_count": 25,
     "metadata": {},
     "output_type": "execute_result"
    }
   ],
   "source": [
    "pat_ck=process_labs(hosp,'ck')\n",
    "pat_ck['subject_id'].nunique()"
   ]
  },
  {
   "cell_type": "code",
   "execution_count": null,
   "id": "63bc7ca3",
   "metadata": {},
   "outputs": [],
   "source": [
    "pat_ck.head()"
   ]
  },
  {
   "cell_type": "markdown",
   "id": "78b1f305",
   "metadata": {},
   "source": [
    "#### Platelets"
   ]
  },
  {
   "cell_type": "code",
   "execution_count": null,
   "id": "073dcf1a",
   "metadata": {},
   "outputs": [],
   "source": [
    "#pat_platelet=process_labs(hosp,'platelet')\n",
    "#pat_platelet['subject_id'].nunique()"
   ]
  },
  {
   "cell_type": "markdown",
   "id": "27c4882c",
   "metadata": {},
   "source": [
    "#### Calcium"
   ]
  },
  {
   "cell_type": "code",
   "execution_count": null,
   "id": "d4c3a4e4",
   "metadata": {},
   "outputs": [],
   "source": [
    "#pat_calcium=process_labs(hosp,'calcium')\n",
    "#pat_calcium['subject_id'].nunique()"
   ]
  },
  {
   "cell_type": "code",
   "execution_count": null,
   "id": "2dfa096b",
   "metadata": {},
   "outputs": [],
   "source": [
    "##Pending - calcium,ck,platelets,lipase,troponin,wbc"
   ]
  },
  {
   "cell_type": "code",
   "execution_count": 26,
   "id": "097f6715",
   "metadata": {},
   "outputs": [],
   "source": [
    "df1=pd.merge(pat_adm,pat_scr,on='subject_id',how='left')\n",
    "del pat_scr\n",
    "df2=pd.merge(df1,pat_alb,on='subject_id',how='left')\n",
    "del df1,pat_alb\n",
    "df3=pd.merge(df2,pat_alt,on='subject_id',how='left')\n",
    "del df2,pat_alt\n",
    "df4=pd.merge(df3,pat_bilirubin,on='subject_id',how='left')\n",
    "del df3,pat_bilirubin\n",
    "df5=pd.merge(df4,pat_ast,on='subject_id',how='left')\n",
    "del df4,pat_ast\n",
    "df6=pd.merge(df5,pat_bun,on='subject_id',how='left')\n",
    "del df5,pat_bun\n",
    "df7=pd.merge(df6,pat_glucose,on='subject_id',how='left')\n",
    "del df6,pat_glucose\n",
    "df8=pd.merge(df7,pat_ammonia,on='subject_id',how='left')\n",
    "del df7,pat_ammonia\n",
    "df9=pd.merge(df8,pat_ck,on='subject_id',how='left')\n",
    "del df8,pat_ck"
   ]
  },
  {
   "cell_type": "code",
   "execution_count": null,
   "id": "c20daca8",
   "metadata": {},
   "outputs": [],
   "source": [
    "#df10=pd.merge(df9,pat_calcium,on='subject_id',how='left')\n",
    "#del df9,pat_calcium\n",
    "#df11=pd.merge(df10,pat_platelet,on='subject_id',how='left')\n",
    "#del df10,pat_calcium"
   ]
  },
  {
   "cell_type": "code",
   "execution_count": 27,
   "id": "d0570d69",
   "metadata": {},
   "outputs": [
    {
     "name": "stdout",
     "output_type": "stream",
     "text": [
      "                    Column  Missing Percentage\n",
      "0               subject_id                0.00\n",
      "1                   gender                0.00\n",
      "2                  hadm_id                0.00\n",
      "3                admittime                0.00\n",
      "4                dischtime                0.00\n",
      "5           marital_status                3.77\n",
      "6                     race                0.00\n",
      "7                      age                0.00\n",
      "8      earliest_creatinine                0.00\n",
      "9                     egfr                0.00\n",
      "10           increase_flag                0.00\n",
      "11  start_time_of_increase               78.65\n",
      "12       min_time_required                0.00\n",
      "13    charttime_creatinine                2.94\n",
      "14       itemid_creatinine                2.94\n",
      "15              creatinine                2.96\n",
      "16     valueuom_creatinine                2.94\n",
      "17        loinc_creatinine                2.94\n",
      "18       charttime_albumin               62.82\n",
      "19          itemid_albumin               62.82\n",
      "20                 albumin               62.83\n",
      "21        valueuom_albumin               62.82\n",
      "22           loinc_albumin               62.82\n",
      "23           charttime_alt               46.41\n",
      "24              itemid_alt               46.41\n",
      "25                     alt               46.93\n",
      "26            valueuom_alt               46.41\n",
      "27               loinc_alt               46.41\n",
      "28     charttime_bilirubin               47.72\n",
      "29        itemid_bilirubin               47.72\n",
      "30               bilirubin               48.86\n",
      "31      valueuom_bilirubin               47.72\n",
      "32         loinc_bilirubin               47.72\n",
      "33           charttime_ast               46.48\n",
      "34              itemid_ast               46.48\n",
      "35                     ast               46.49\n",
      "36            valueuom_ast               46.48\n",
      "37               loinc_ast               46.48\n",
      "38           charttime_bun               12.74\n",
      "39              itemid_bun               12.74\n",
      "40                     bun               12.83\n",
      "41            valueuom_bun               12.75\n",
      "42               loinc_bun               24.63\n",
      "43       charttime_glucose                3.71\n",
      "44          itemid_glucose                3.71\n",
      "45                 glucose                3.71\n",
      "46        valueuom_glucose                3.71\n",
      "47           loinc_glucose                3.71\n",
      "48       charttime_ammonia               98.80\n",
      "49          itemid_ammonia               98.80\n",
      "50                 ammonia               98.96\n",
      "51        valueuom_ammonia               98.80\n",
      "52           loinc_ammonia               98.80\n",
      "53            charttime_ck               78.44\n",
      "54               itemid_ck               78.44\n",
      "55                      ck               78.45\n",
      "56             valueuom_ck               78.44\n",
      "57                loinc_ck               78.44\n"
     ]
    }
   ],
   "source": [
    "missing_percentages = round(((df9.isnull().sum() / len(df9)) * 100),2)\n",
    "\n",
    "# Create a DataFrame to display missing percentages\n",
    "missing_df = pd.DataFrame({'Missing Percentage': missing_percentages})\n",
    "missing_df.index.name = 'Column'\n",
    "missing_df=missing_df.reset_index()\n",
    "print(missing_df)"
   ]
  },
  {
   "cell_type": "code",
   "execution_count": 28,
   "id": "020afcab",
   "metadata": {},
   "outputs": [],
   "source": [
    "#Save the dfs:\n",
    "df9.to_csv(f'{base}labs_final.csv')\n",
    "\n",
    "missing_df.to_csv(f'{base}missing_lab_percent.csv')\n",
    "del missing_df"
   ]
  },
  {
   "cell_type": "code",
   "execution_count": null,
   "id": "2e8af54e",
   "metadata": {},
   "outputs": [],
   "source": []
  }
 ],
 "metadata": {
  "kernelspec": {
   "display_name": "Python 3 (ipykernel)",
   "language": "python",
   "name": "python3"
  },
  "language_info": {
   "codemirror_mode": {
    "name": "ipython",
    "version": 3
   },
   "file_extension": ".py",
   "mimetype": "text/x-python",
   "name": "python",
   "nbconvert_exporter": "python",
   "pygments_lexer": "ipython3",
   "version": "3.11.5"
  }
 },
 "nbformat": 4,
 "nbformat_minor": 5
}
